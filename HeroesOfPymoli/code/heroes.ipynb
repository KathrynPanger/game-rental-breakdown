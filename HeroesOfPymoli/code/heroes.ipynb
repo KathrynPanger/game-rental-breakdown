{
 "metadata": {
  "language_info": {
   "codemirror_mode": {
    "name": "ipython",
    "version": 3
   },
   "file_extension": ".py",
   "mimetype": "text/x-python",
   "name": "python",
   "nbconvert_exporter": "python",
   "pygments_lexer": "ipython3",
   "version": "3.8.5-final"
  },
  "orig_nbformat": 2,
  "kernelspec": {
   "name": "python3",
   "display_name": "Python 3",
   "language": "python"
  }
 },
 "nbformat": 4,
 "nbformat_minor": 2,
 "cells": [
  {
   "cell_type": "code",
   "execution_count": 71,
   "metadata": {},
   "outputs": [],
   "source": [
    "import pandas as pd\n",
    "import math"
   ]
  },
  {
   "cell_type": "code",
   "execution_count": 72,
   "metadata": {},
   "outputs": [],
   "source": [
    "file = \"../Resources/purchase_data.csv\""
   ]
  },
  {
   "cell_type": "code",
   "execution_count": 73,
   "metadata": {},
   "outputs": [],
   "source": [
    "df = pd.read_csv(file)"
   ]
  },
  {
   "cell_type": "code",
   "execution_count": 74,
   "metadata": {},
   "outputs": [],
   "source": [
    "#Drop duplicates\n",
    "df.drop_duplicates(inplace = True)"
   ]
  },
  {
   "cell_type": "code",
   "execution_count": 75,
   "metadata": {},
   "outputs": [],
   "source": [
    "#Get total number of players\n",
    "players = df[\"SN\"].unique()\n",
    "playercount=len(players)"
   ]
  },
  {
   "cell_type": "code",
   "execution_count": 76,
   "metadata": {},
   "outputs": [],
   "source": [
    "#Get Average Purchace Price\n",
    "meanprice= round(df[\"Price\"].mean(),2)"
   ]
  },
  {
   "cell_type": "code",
   "execution_count": 77,
   "metadata": {},
   "outputs": [],
   "source": [
    "#Get Count of Purchases\n",
    "purchasecount=len(df)"
   ]
  },
  {
   "cell_type": "code",
   "execution_count": 78,
   "metadata": {},
   "outputs": [],
   "source": [
    "totalrevene = sum(df[\"Price\"])"
   ]
  },
  {
   "cell_type": "code",
   "execution_count": 79,
   "metadata": {},
   "outputs": [],
   "source": [
    "#Get count of male players\n",
    "unique_df = df.drop_duplicates(subset = \"SN\")\n",
    "males = unique_df.loc[unique_df[\"Gender\"] == \"Male\"]\n",
    "malecount = len(males)\n",
    "#Get percentage of male players\n",
    "malepercent = malecount/len(unique_df)"
   ]
  },
  {
   "cell_type": "code",
   "execution_count": 80,
   "metadata": {},
   "outputs": [],
   "source": [
    "#Get count of female players\n",
    "females = unique_df.loc[unique_df[\"Gender\"] == \"Female\"]\n",
    "femalecount = len(females)\n",
    "#Get percentage of female players\n",
    "femalepercent = femalecount/len(unique_df)\n",
    "#Get purchase count of female players\n"
   ]
  },
  {
   "cell_type": "code",
   "execution_count": 81,
   "metadata": {},
   "outputs": [],
   "source": [
    "others = unique_df.loc[unique_df[\"Gender\"] == \"Other / Non-Disclosed\"]\n",
    "othercount = len(others)\n",
    "#Get percentage of female players\n",
    "otherpercent = othercount/len(unique_df)"
   ]
  },
  {
   "cell_type": "code",
   "execution_count": 82,
   "metadata": {},
   "outputs": [],
   "source": [
    "#Get male purchase count \n",
    "malebuyers = df.loc[df[\"Gender\"] == \"Male\"]\n",
    "m_purchasecount= len(malebuyers)\n",
    "#Get male averate purchase price\n",
    "m_avgprice = malebuyers[\"Price\"].mean()\n",
    "m_avgprice = round(m_avgprice, 2)\n",
    "#Get male total value\n",
    "m_totalvalue = sum(malebuyers[\"Price\"])\n",
    "#Get male average purchase total per user\n",
    "mvalue_df = malebuyers.groupby([\"SN\"]).sum()\n",
    "avgmalevalue= mvalue_df[\"Price\"].mean()\n",
    "avgmalevalue=round(avgmalevalue, 2)\n"
   ]
  },
  {
   "cell_type": "code",
   "execution_count": 83,
   "metadata": {},
   "outputs": [],
   "source": [
    "#Get female purchase count\n",
    "femalebuyers = df.loc[df[\"Gender\"] == \"Female\"]\n",
    "f_purchasecount= len(femalebuyers)\n",
    "#Get female average purchase price\n",
    "f_avgprice = femalebuyers[\"Price\"].mean()\n",
    "favgprice = round(f_avgprice, 2)\n",
    "#Get female total value\n",
    "f_totalvalue = sum(femalebuyers[\"Price\"])\n",
    "#Get male average purchase total per user\n",
    "fvalue_df = femalebuyers.groupby([\"SN\"]).sum()\n",
    "avgfemalevalue= fvalue_df[\"Price\"].mean()\n",
    "avgfemalevalue=round(avgfemalevalue, 2)"
   ]
  },
  {
   "cell_type": "code",
   "execution_count": 84,
   "metadata": {},
   "outputs": [],
   "source": [
    "#Get other purchase count\n",
    "otherbuyers = df.loc[df[\"Gender\"] == \"Other / Non-Disclosed\"]\n",
    "o_purchasecount= len(otherbuyers)\n",
    "#Get other average purchase price\n",
    "o_avgprice = otherbuyers[\"Price\"].mean()\n",
    "o_avgprice = round(o_avgprice, 2)\n",
    "#Get other total value\n",
    "o_totalvalue = sum(otherbuyers[\"Price\"])\n",
    "#Get male average purchase total per user\n",
    "ovalue_df = otherbuyers.groupby([\"SN\"]).sum()\n",
    "avgothervalue= ovalue_df[\"Price\"].mean()\n",
    "avgothervalue=round(avgothervalue, 2)"
   ]
  },
  {
   "cell_type": "code",
   "execution_count": 85,
   "metadata": {},
   "outputs": [],
   "source": [
    "#Get purchase count for age groups\n",
    "df[\"Age Binned\"] = pd.cut(df.Age, bins = [0,10,15,20,25,30,35,40,45], labels = [\"<=10\", \"11-15\", \"16-20\", \"21-25\", \"26-30\", \"31-35\", \"36-40\", \"41-45\"])\n",
    "agecount_df=df.groupby([\"Age Binned\"]).count()\n",
    "purchasecount = agecount_df[\"Purchase ID\"]\n",
    "#Get average purchase price of agegroups:\n",
    "ageavg_df= agecount_df=df.groupby([\"Age Binned\"]).mean()[\"Price\"]\n",
    "#Get average purchase price per person for age groups\n",
    "agecount_df=df.groupby([\"Age Binned\"]).mean()\n",
    "avg_price_age=agecount_df[\"Price\"]"
   ]
  },
  {
   "cell_type": "code",
   "execution_count": 86,
   "metadata": {},
   "outputs": [],
   "source": [
    "#Get top five spenders by total purchase value, then get table of all values assocated with these\n",
    "sorted_spenders = grouped_sn.sum().sort_values([\"Price\"], ascending = False)\n",
    "topfive=sorted_spenders.head(5)"
   ]
  },
  {
   "cell_type": "code",
   "execution_count": 87,
   "metadata": {},
   "outputs": [],
   "source": [
    "grouped_sn=df.groupby([\"SN\"])"
   ]
  },
  {
   "cell_type": "code",
   "execution_count": 88,
   "metadata": {},
   "outputs": [],
   "source": [
    "games_df=df.groupby([\"Item Name\"])"
   ]
  },
  {
   "cell_type": "code",
   "execution_count": 89,
   "metadata": {},
   "outputs": [],
   "source": [
    "gamecount=games_df.count()"
   ]
  },
  {
   "cell_type": "code",
   "execution_count": 90,
   "metadata": {},
   "outputs": [],
   "source": [
    "sorted_games = gamecount.sort_values([\"Item ID\"], ascending = False)"
   ]
  },
  {
   "cell_type": "code",
   "execution_count": 91,
   "metadata": {
    "tags": []
   },
   "outputs": [],
   "source": [
    "top5=[]\n",
    "sorted_games.head(5)\n",
    "for i,x in sorted_games.iterrows():\n",
    "    top5.append(i)\n",
    "top5=top5[0:5]"
   ]
  },
  {
   "cell_type": "code",
   "execution_count": 118,
   "metadata": {},
   "outputs": [],
   "source": [
    "top5_df=df.loc[[item for item in top5]]\n",
    "top5_grouped=top5_df.groupby([\"Item Name\"])\n",
    "purchase_count=top5_grouped.count()[\"Purchase ID\"]\n",
    "item_price = top5_df[\"Price\"]"
   ]
  },
  {
   "cell_type": "code",
   "execution_count": 124,
   "metadata": {},
   "outputs": [
    {
     "output_type": "error",
     "ename": "TypeError",
     "evalue": "unhashable type: 'list'",
     "traceback": [
      "\u001b[0;31m---------------------------------------------------------------------------\u001b[0m",
      "\u001b[0;31mTypeError\u001b[0m                                 Traceback (most recent call last)",
      "\u001b[0;32m<ipython-input-124-d954cc7519e7>\u001b[0m in \u001b[0;36m<module>\u001b[0;34m\u001b[0m\n\u001b[0;32m----> 1\u001b[0;31m \u001b[0mdf\u001b[0m\u001b[0;34m[\u001b[0m\u001b[0;34m\"Price\"\u001b[0m\u001b[0;34m]\u001b[0m\u001b[0;34m.\u001b[0m\u001b[0msort_values\u001b[0m\u001b[0;34m(\u001b[0m\u001b[0;34m[\u001b[0m\u001b[0;34m\"Item Name\"\u001b[0m\u001b[0;34m]\u001b[0m\u001b[0;34m)\u001b[0m\u001b[0;34m\u001b[0m\u001b[0;34m\u001b[0m\u001b[0m\n\u001b[0m",
      "\u001b[0;32m~/anaconda3/lib/python3.8/site-packages/pandas/core/series.py\u001b[0m in \u001b[0;36msort_values\u001b[0;34m(self, axis, ascending, inplace, kind, na_position, ignore_index, key)\u001b[0m\n\u001b[1;32m   3229\u001b[0m         \u001b[0minplace\u001b[0m \u001b[0;34m=\u001b[0m \u001b[0mvalidate_bool_kwarg\u001b[0m\u001b[0;34m(\u001b[0m\u001b[0minplace\u001b[0m\u001b[0;34m,\u001b[0m \u001b[0;34m\"inplace\"\u001b[0m\u001b[0;34m)\u001b[0m\u001b[0;34m\u001b[0m\u001b[0;34m\u001b[0m\u001b[0m\n\u001b[1;32m   3230\u001b[0m         \u001b[0;31m# Validate the axis parameter\u001b[0m\u001b[0;34m\u001b[0m\u001b[0;34m\u001b[0m\u001b[0;34m\u001b[0m\u001b[0m\n\u001b[0;32m-> 3231\u001b[0;31m         \u001b[0mself\u001b[0m\u001b[0;34m.\u001b[0m\u001b[0m_get_axis_number\u001b[0m\u001b[0;34m(\u001b[0m\u001b[0maxis\u001b[0m\u001b[0;34m)\u001b[0m\u001b[0;34m\u001b[0m\u001b[0;34m\u001b[0m\u001b[0m\n\u001b[0m\u001b[1;32m   3232\u001b[0m \u001b[0;34m\u001b[0m\u001b[0m\n\u001b[1;32m   3233\u001b[0m         \u001b[0;31m# GH 5856/5853\u001b[0m\u001b[0;34m\u001b[0m\u001b[0;34m\u001b[0m\u001b[0;34m\u001b[0m\u001b[0m\n",
      "\u001b[0;32m~/anaconda3/lib/python3.8/site-packages/pandas/core/generic.py\u001b[0m in \u001b[0;36m_get_axis_number\u001b[0;34m(cls, axis)\u001b[0m\n\u001b[1;32m    366\u001b[0m     \u001b[0;32mdef\u001b[0m \u001b[0m_get_axis_number\u001b[0m\u001b[0;34m(\u001b[0m\u001b[0mcls\u001b[0m\u001b[0;34m,\u001b[0m \u001b[0maxis\u001b[0m\u001b[0;34m:\u001b[0m \u001b[0mAxis\u001b[0m\u001b[0;34m)\u001b[0m \u001b[0;34m->\u001b[0m \u001b[0mint\u001b[0m\u001b[0;34m:\u001b[0m\u001b[0;34m\u001b[0m\u001b[0;34m\u001b[0m\u001b[0m\n\u001b[1;32m    367\u001b[0m         \u001b[0;32mtry\u001b[0m\u001b[0;34m:\u001b[0m\u001b[0;34m\u001b[0m\u001b[0;34m\u001b[0m\u001b[0m\n\u001b[0;32m--> 368\u001b[0;31m             \u001b[0;32mreturn\u001b[0m \u001b[0mcls\u001b[0m\u001b[0;34m.\u001b[0m\u001b[0m_AXIS_TO_AXIS_NUMBER\u001b[0m\u001b[0;34m[\u001b[0m\u001b[0maxis\u001b[0m\u001b[0;34m]\u001b[0m\u001b[0;34m\u001b[0m\u001b[0;34m\u001b[0m\u001b[0m\n\u001b[0m\u001b[1;32m    369\u001b[0m         \u001b[0;32mexcept\u001b[0m \u001b[0mKeyError\u001b[0m\u001b[0;34m:\u001b[0m\u001b[0;34m\u001b[0m\u001b[0;34m\u001b[0m\u001b[0m\n\u001b[1;32m    370\u001b[0m             \u001b[0;32mraise\u001b[0m \u001b[0mValueError\u001b[0m\u001b[0;34m(\u001b[0m\u001b[0;34mf\"No axis named {axis} for object type {cls.__name__}\"\u001b[0m\u001b[0;34m)\u001b[0m\u001b[0;34m\u001b[0m\u001b[0;34m\u001b[0m\u001b[0m\n",
      "\u001b[0;31mTypeError\u001b[0m: unhashable type: 'list'"
     ]
    }
   ],
   "source": []
  },
  {
   "cell_type": "code",
   "execution_count": null,
   "metadata": {},
   "outputs": [],
   "source": []
  }
 ]
}