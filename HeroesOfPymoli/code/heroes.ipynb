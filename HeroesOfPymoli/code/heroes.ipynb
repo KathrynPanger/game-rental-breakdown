{
 "metadata": {
  "language_info": {
   "codemirror_mode": {
    "name": "ipython",
    "version": 3
   },
   "file_extension": ".py",
   "mimetype": "text/x-python",
   "name": "python",
   "nbconvert_exporter": "python",
   "pygments_lexer": "ipython3",
   "version": "3.8.5-final"
  },
  "orig_nbformat": 2,
  "kernelspec": {
   "name": "python3",
   "display_name": "Python 3"
  }
 },
 "nbformat": 4,
 "nbformat_minor": 2,
 "cells": [
  {
   "cell_type": "code",
   "execution_count": 2,
   "metadata": {},
   "outputs": [],
   "source": [
    "import pandas as pd\n",
    "import math"
   ]
  },
  {
   "cell_type": "code",
   "execution_count": 3,
   "metadata": {},
   "outputs": [],
   "source": [
    "file = \"../Resources/purchase_data.csv\""
   ]
  },
  {
   "cell_type": "code",
   "execution_count": 4,
   "metadata": {},
   "outputs": [],
   "source": [
    "df = pd.read_csv(file)"
   ]
  },
  {
   "cell_type": "code",
   "execution_count": 5,
   "metadata": {},
   "outputs": [],
   "source": [
    "#Drop duplicates\n",
    "df.drop_duplicates(inplace = True)"
   ]
  },
  {
   "cell_type": "code",
   "execution_count": 6,
   "metadata": {},
   "outputs": [],
   "source": [
    "#Get total number of players\n",
    "players = df[\"SN\"].unique()\n",
    "playercount=len(players)"
   ]
  },
  {
   "cell_type": "code",
   "execution_count": 7,
   "metadata": {},
   "outputs": [],
   "source": [
    "#Get Average Purchace Price\n",
    "meanprice= round(df[\"Price\"].mean(),2)"
   ]
  },
  {
   "cell_type": "code",
   "execution_count": 8,
   "metadata": {},
   "outputs": [],
   "source": [
    "#Get Count of Purchases\n",
    "purchasecount=len(df)"
   ]
  },
  {
   "cell_type": "code",
   "execution_count": 9,
   "metadata": {},
   "outputs": [],
   "source": [
    "totalrevene = sum(df[\"Price\"])"
   ]
  },
  {
   "cell_type": "code",
   "execution_count": 10,
   "metadata": {},
   "outputs": [],
   "source": [
    "#Get count of male players\n",
    "unique_df = df.drop_duplicates(subset = \"SN\")\n",
    "males = unique_df.loc[unique_df[\"Gender\"] == \"Male\"]\n",
    "malecount = len(males)\n",
    "#Get percentage of male players\n",
    "malepercent = malecount/len(unique_df)"
   ]
  },
  {
   "cell_type": "code",
   "execution_count": 11,
   "metadata": {},
   "outputs": [],
   "source": [
    "#Get count of female players\n",
    "females = unique_df.loc[unique_df[\"Gender\"] == \"Female\"]\n",
    "femalecount = len(females)\n",
    "#Get percentage of female players\n",
    "femalepercent = femalecount/len(unique_df)\n",
    "#Get purchase count of female players\n"
   ]
  },
  {
   "cell_type": "code",
   "execution_count": 12,
   "metadata": {},
   "outputs": [],
   "source": [
    "others = unique_df.loc[unique_df[\"Gender\"] == \"Other / Non-Disclosed\"]\n",
    "othercount = len(others)\n",
    "#Get percentage of female players\n",
    "otherpercent = othercount/len(unique_df)"
   ]
  },
  {
   "cell_type": "code",
   "execution_count": 13,
   "metadata": {},
   "outputs": [],
   "source": [
    "#Get male purchase count \n",
    "malebuyers = df.loc[df[\"Gender\"] == \"Male\"]\n",
    "m_purchasecount= len(malebuyers)\n",
    "#Get male averate purchase price\n",
    "m_avgprice = malebuyers[\"Price\"].mean()\n",
    "m_avgprice = round(m_avgprice, 2)\n",
    "#Get male total value\n",
    "m_totalvalue = sum(malebuyers[\"Price\"])\n",
    "#Get male average purchase total per user\n",
    "mvalue_df = malebuyers.groupby([\"SN\"]).sum()\n",
    "avgmalevalue= mvalue_df[\"Price\"].mean()\n",
    "avgmalevalue=round(avgmalevalue, 2)\n"
   ]
  },
  {
   "cell_type": "code",
   "execution_count": 14,
   "metadata": {},
   "outputs": [],
   "source": [
    "#Get female purchase count\n",
    "femalebuyers = df.loc[df[\"Gender\"] == \"Female\"]\n",
    "f_purchasecount= len(femalebuyers)\n",
    "#Get female average purchase price\n",
    "f_avgprice = femalebuyers[\"Price\"].mean()\n",
    "favgprice = round(f_avgprice, 2)\n",
    "#Get female total value\n",
    "f_totalvalue = sum(femalebuyers[\"Price\"])\n",
    "#Get male average purchase total per user\n",
    "fvalue_df = femalebuyers.groupby([\"SN\"]).sum()\n",
    "avgfemalevalue= fvalue_df[\"Price\"].mean()\n",
    "avgfemalevalue=round(avgfemalevalue, 2)"
   ]
  },
  {
   "cell_type": "code",
   "execution_count": 15,
   "metadata": {},
   "outputs": [],
   "source": [
    "#Get other purchase count\n",
    "otherbuyers = df.loc[df[\"Gender\"] == \"Other / Non-Disclosed\"]\n",
    "o_purchasecount= len(otherbuyers)\n",
    "#Get other average purchase price\n",
    "o_avgprice = otherbuyers[\"Price\"].mean()\n",
    "o_avgprice = round(o_avgprice, 2)\n",
    "#Get other total value\n",
    "o_totalvalue = sum(otherbuyers[\"Price\"])\n",
    "#Get male average purchase total per user\n",
    "ovalue_df = otherbuyers.groupby([\"SN\"]).sum()\n",
    "avgothervalue= ovalue_df[\"Price\"].mean()\n",
    "avgothervalue=round(avgothervalue, 2)"
   ]
  },
  {
   "cell_type": "code",
   "execution_count": 102,
   "metadata": {},
   "outputs": [],
   "source": [
    "#Get purchase count for age groups\n",
    "df[\"Age Binned\"] = pd.cut(df.Age, bins = [0,10,15,20,25,30,35,40,45], labels = [\"<=10\", \"11-15\", \"16-20\", \"21-25\", \"26-30\", \"31-35\", \"36-40\", \"41-45\"])\n",
    "agecount_df=df.groupby([\"Age Binned\"]).count()\n",
    "purchasecount = agecount_df[\"Purchase ID\"]\n",
    "#Get average purchase price of agegroups:\n",
    "ageavg_df= agecount_df=df.groupby([\"Age Binned\"]).mean()[\"Price\"]\n",
    "#Get average purchase price per person for age groups\n",
    "agecount_df=df.groupby([\"Age Binned\"]).mean()\n",
    "avg_price_age=agecount_df[\"Price\"]"
   ]
  },
  {
   "cell_type": "code",
   "execution_count": 99,
   "metadata": {},
   "outputs": [],
   "source": [
    "ageavg_df= agecount_df=df.groupby([\"Age Binned\"]).mean()[\"Price\"]"
   ]
  },
  {
   "cell_type": "code",
   "execution_count": 100,
   "metadata": {},
   "outputs": [
    {
     "output_type": "execute_result",
     "data": {
      "text/plain": [
       "Age Binned\n",
       "<=10     3.405000\n",
       "11-15    2.900000\n",
       "16-20    3.107800\n",
       "21-25    3.020431\n",
       "26-30    2.875584\n",
       "31-35    2.994423\n",
       "36-40    3.404545\n",
       "41-45    3.075714\n",
       "Name: Price, dtype: float64"
      ]
     },
     "metadata": {},
     "execution_count": 100
    }
   ],
   "source": [
    "ageavg_df"
   ]
  },
  {
   "cell_type": "code",
   "execution_count": null,
   "metadata": {},
   "outputs": [],
   "source": []
  }
 ]
}