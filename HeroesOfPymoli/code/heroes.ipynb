{
 "metadata": {
  "language_info": {
   "codemirror_mode": {
    "name": "ipython",
    "version": 3
   },
   "file_extension": ".py",
   "mimetype": "text/x-python",
   "name": "python",
   "nbconvert_exporter": "python",
   "pygments_lexer": "ipython3",
   "version": "3.8.5-final"
  },
  "orig_nbformat": 2,
  "kernelspec": {
   "name": "python3",
   "display_name": "Python 3"
  }
 },
 "nbformat": 4,
 "nbformat_minor": 2,
 "cells": [
  {
   "cell_type": "code",
   "execution_count": 16,
   "metadata": {},
   "outputs": [],
   "source": [
    "import pandas as pd\n",
    "import math"
   ]
  },
  {
   "cell_type": "code",
   "execution_count": 2,
   "metadata": {},
   "outputs": [],
   "source": [
    "file = \"../Resources/purchase_data.csv\""
   ]
  },
  {
   "cell_type": "code",
   "execution_count": 4,
   "metadata": {},
   "outputs": [],
   "source": [
    "df = pd.read_csv(file)"
   ]
  },
  {
   "cell_type": "code",
   "execution_count": 21,
   "metadata": {},
   "outputs": [],
   "source": [
    "#Drop duplicates\n",
    "df.drop_duplicates(inplace = True)"
   ]
  },
  {
   "cell_type": "code",
   "execution_count": 22,
   "metadata": {},
   "outputs": [],
   "source": [
    "#Get total number of players\n",
    "players = df[\"SN\"].unique()\n",
    "playercount=len(players)"
   ]
  },
  {
   "cell_type": "code",
   "execution_count": 23,
   "metadata": {},
   "outputs": [],
   "source": [
    "#Get Average Purchace Price\n",
    "meanprice= round(df[\"Price\"].mean(),2)"
   ]
  },
  {
   "cell_type": "code",
   "execution_count": 24,
   "metadata": {},
   "outputs": [],
   "source": [
    "#Get Count of Purchases\n",
    "purchasecount=len(df)"
   ]
  },
  {
   "cell_type": "code",
   "execution_count": 27,
   "metadata": {},
   "outputs": [],
   "source": [
    "totalrevene = sum(df[\"Price\"])"
   ]
  },
  {
   "cell_type": "code",
   "execution_count": 80,
   "metadata": {},
   "outputs": [],
   "source": [
    "#Get count of male players\n",
    "unique_df = df.drop_duplicates(subset = \"SN\")\n",
    "males = unique_df.loc[unique_df[\"Gender\"] == \"Male\"]\n",
    "malecount = len(males)\n",
    "#Get percentage of male players\n",
    "malepercent = malecount/len(unique_df)"
   ]
  },
  {
   "cell_type": "code",
   "execution_count": 81,
   "metadata": {},
   "outputs": [],
   "source": [
    "#Get count of female players\n",
    "females = unique_df.loc[unique_df[\"Gender\"] == \"Female\"]\n",
    "femalecount = len(females)\n",
    "#Get percentage of female players\n",
    "femalepercent = femalecount/len(unique_df)\n",
    "#Get purchase count of female players\n"
   ]
  },
  {
   "cell_type": "code",
   "execution_count": 82,
   "metadata": {},
   "outputs": [],
   "source": [
    "others = unique_df.loc[unique_df[\"Gender\"] == \"Other / Non-Disclosed\"]\n",
    "othercount = len(others)\n",
    "#Get percentage of female players\n",
    "otherpercent = othercount/len(unique_df)"
   ]
  },
  {
   "cell_type": "code",
   "execution_count": 103,
   "metadata": {},
   "outputs": [],
   "source": [
    "#Get male purchase count \n",
    "malebuyers = df.loc[df[\"Gender\"] == \"Male\"]\n",
    "m_purchasecount= len(malebuyers)\n",
    "#Get male averate purchase price\n",
    "m_avgprice = malebuyers[\"Price\"].mean()\n",
    "m_avgprice = round(m_avgprice, 2)\n",
    "#Get male total value\n",
    "m_totalvalue = sum(malebuyers[\"Price\"])\n",
    "#Get male average purchase total per user\n",
    "mvalue_df = malebuyers.groupby([\"SN\"]).sum()\n",
    "avgmalevalue= mvalue_df[\"Price\"].mean()\n",
    "avgmalevalue=round(avgmalevalue, 2)\n"
   ]
  },
  {
   "cell_type": "code",
   "execution_count": 131,
   "metadata": {},
   "outputs": [],
   "source": [
    "#Get female purchase count\n",
    "femalebuyers = df.loc[df[\"Gender\"] == \"Female\"]\n",
    "f_purchasecount= len(femalebuyers)\n",
    "#Get female average purchase price\n",
    "f_avgprice = femalebuyers[\"Price\"].mean()\n",
    "favgprice = round(f_avgprice, 2)\n",
    "#Get female total value\n",
    "f_totalvalue = sum(femalebuyers[\"Price\"])\n",
    "#Get male average purchase total per user\n",
    "fvalue_df = femalebuyers.groupby([\"SN\"]).sum()\n",
    "avgfemalevalue= fvalue_df[\"Price\"].mean()\n",
    "avgfemalevalue=round(avgfemalevalue, 2)"
   ]
  },
  {
   "cell_type": "code",
   "execution_count": 132,
   "metadata": {},
   "outputs": [],
   "source": [
    "#Get other purchase count\n",
    "otherbuyers = df.loc[df[\"Gender\"] == \"Other / Non-Disclosed\"]\n",
    "o_purchasecount= len(otherbuyers)\n",
    "#Get other average purchase price\n",
    "o_avgprice = otherbuyers[\"Price\"].mean()\n",
    "o_avgprice = round(o_avgprice, 2)\n",
    "#Get other total value\n",
    "o_totalvalue = sum(otherbuyers[\"Price\"])\n",
    "#Get male average purchase total per user\n",
    "ovalue_df = otherbuyers.groupby([\"SN\"]).sum()\n",
    "avgothervalue= ovalue_df[\"Price\"].mean()\n",
    "avgothervalue=round(avgothervalue, 2)"
   ]
  },
  {
   "cell_type": "code",
   "execution_count": 133,
   "metadata": {},
   "outputs": [
    {
     "output_type": "execute_result",
     "data": {
      "text/plain": [
       "4.56"
      ]
     },
     "metadata": {},
     "execution_count": 133
    }
   ],
   "source": [
    "avgothervalue"
   ]
  },
  {
   "cell_type": "code",
   "execution_count": null,
   "metadata": {},
   "outputs": [],
   "source": []
  }
 ]
}