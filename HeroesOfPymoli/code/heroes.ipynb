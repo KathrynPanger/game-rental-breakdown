{
 "metadata": {
  "language_info": {
   "codemirror_mode": {
    "name": "ipython",
    "version": 3
   },
   "file_extension": ".py",
   "mimetype": "text/x-python",
   "name": "python",
   "nbconvert_exporter": "python",
   "pygments_lexer": "ipython3",
   "version": "3.8.5-final"
  },
  "orig_nbformat": 2,
  "kernelspec": {
   "name": "python3",
   "display_name": "Python 3"
  }
 },
 "nbformat": 4,
 "nbformat_minor": 2,
 "cells": [
  {
   "cell_type": "code",
   "execution_count": 2,
   "metadata": {},
   "outputs": [],
   "source": [
    "import pandas as pd\n",
    "import math"
   ]
  },
  {
   "cell_type": "code",
   "execution_count": 3,
   "metadata": {},
   "outputs": [],
   "source": [
    "file = \"../Resources/purchase_data.csv\""
   ]
  },
  {
   "cell_type": "code",
   "execution_count": 4,
   "metadata": {},
   "outputs": [],
   "source": [
    "df = pd.read_csv(file)"
   ]
  },
  {
   "cell_type": "code",
   "execution_count": 5,
   "metadata": {},
   "outputs": [],
   "source": [
    "#Drop duplicates\n",
    "df.drop_duplicates(inplace = True)"
   ]
  },
  {
   "cell_type": "code",
   "execution_count": 6,
   "metadata": {},
   "outputs": [],
   "source": [
    "#Get total number of players\n",
    "players = df[\"SN\"].unique()\n",
    "playercount=len(players)"
   ]
  },
  {
   "cell_type": "code",
   "execution_count": 7,
   "metadata": {},
   "outputs": [],
   "source": [
    "#Get Average Purchace Price\n",
    "meanprice= round(df[\"Price\"].mean(),2)"
   ]
  },
  {
   "cell_type": "code",
   "execution_count": 8,
   "metadata": {},
   "outputs": [],
   "source": [
    "#Get Count of Purchases\n",
    "purchasecount=len(df)"
   ]
  },
  {
   "cell_type": "code",
   "execution_count": 9,
   "metadata": {},
   "outputs": [],
   "source": [
    "totalrevene = sum(df[\"Price\"])"
   ]
  },
  {
   "cell_type": "code",
   "execution_count": 10,
   "metadata": {},
   "outputs": [],
   "source": [
    "#Get count of male players\n",
    "unique_df = df.drop_duplicates(subset = \"SN\")\n",
    "males = unique_df.loc[unique_df[\"Gender\"] == \"Male\"]\n",
    "malecount = len(males)\n",
    "#Get percentage of male players\n",
    "malepercent = malecount/len(unique_df)"
   ]
  },
  {
   "cell_type": "code",
   "execution_count": 11,
   "metadata": {},
   "outputs": [],
   "source": [
    "#Get count of female players\n",
    "females = unique_df.loc[unique_df[\"Gender\"] == \"Female\"]\n",
    "femalecount = len(females)\n",
    "#Get percentage of female players\n",
    "femalepercent = femalecount/len(unique_df)\n",
    "#Get purchase count of female players\n"
   ]
  },
  {
   "cell_type": "code",
   "execution_count": 12,
   "metadata": {},
   "outputs": [],
   "source": [
    "others = unique_df.loc[unique_df[\"Gender\"] == \"Other / Non-Disclosed\"]\n",
    "othercount = len(others)\n",
    "#Get percentage of female players\n",
    "otherpercent = othercount/len(unique_df)"
   ]
  },
  {
   "cell_type": "code",
   "execution_count": 13,
   "metadata": {},
   "outputs": [],
   "source": [
    "#Get male purchase count \n",
    "malebuyers = df.loc[df[\"Gender\"] == \"Male\"]\n",
    "m_purchasecount= len(malebuyers)\n",
    "#Get male averate purchase price\n",
    "m_avgprice = malebuyers[\"Price\"].mean()\n",
    "m_avgprice = round(m_avgprice, 2)\n",
    "#Get male total value\n",
    "m_totalvalue = sum(malebuyers[\"Price\"])\n",
    "#Get male average purchase total per user\n",
    "mvalue_df = malebuyers.groupby([\"SN\"]).sum()\n",
    "avgmalevalue= mvalue_df[\"Price\"].mean()\n",
    "avgmalevalue=round(avgmalevalue, 2)\n"
   ]
  },
  {
   "cell_type": "code",
   "execution_count": 14,
   "metadata": {},
   "outputs": [],
   "source": [
    "#Get female purchase count\n",
    "femalebuyers = df.loc[df[\"Gender\"] == \"Female\"]\n",
    "f_purchasecount= len(femalebuyers)\n",
    "#Get female average purchase price\n",
    "f_avgprice = femalebuyers[\"Price\"].mean()\n",
    "favgprice = round(f_avgprice, 2)\n",
    "#Get female total value\n",
    "f_totalvalue = sum(femalebuyers[\"Price\"])\n",
    "#Get male average purchase total per user\n",
    "fvalue_df = femalebuyers.groupby([\"SN\"]).sum()\n",
    "avgfemalevalue= fvalue_df[\"Price\"].mean()\n",
    "avgfemalevalue=round(avgfemalevalue, 2)"
   ]
  },
  {
   "cell_type": "code",
   "execution_count": 15,
   "metadata": {},
   "outputs": [],
   "source": [
    "#Get other purchase count\n",
    "otherbuyers = df.loc[df[\"Gender\"] == \"Other / Non-Disclosed\"]\n",
    "o_purchasecount= len(otherbuyers)\n",
    "#Get other average purchase price\n",
    "o_avgprice = otherbuyers[\"Price\"].mean()\n",
    "o_avgprice = round(o_avgprice, 2)\n",
    "#Get other total value\n",
    "o_totalvalue = sum(otherbuyers[\"Price\"])\n",
    "#Get male average purchase total per user\n",
    "ovalue_df = otherbuyers.groupby([\"SN\"]).sum()\n",
    "avgothervalue= ovalue_df[\"Price\"].mean()\n",
    "avgothervalue=round(avgothervalue, 2)"
   ]
  },
  {
   "cell_type": "code",
   "execution_count": 102,
   "metadata": {},
   "outputs": [],
   "source": [
    "#Get purchase count for age groups\n",
    "df[\"Age Binned\"] = pd.cut(df.Age, bins = [0,10,15,20,25,30,35,40,45], labels = [\"<=10\", \"11-15\", \"16-20\", \"21-25\", \"26-30\", \"31-35\", \"36-40\", \"41-45\"])\n",
    "agecount_df=df.groupby([\"Age Binned\"]).count()\n",
    "purchasecount = agecount_df[\"Purchase ID\"]\n",
    "#Get average purchase price of agegroups:\n",
    "ageavg_df= agecount_df=df.groupby([\"Age Binned\"]).mean()[\"Price\"]\n",
    "#Get average purchase price per person for age groups\n",
    "agecount_df=df.groupby([\"Age Binned\"]).mean()\n",
    "avg_price_age=agecount_df[\"Price\"]"
   ]
  },
  {
   "cell_type": "code",
   "execution_count": 124,
   "metadata": {},
   "outputs": [],
   "source": [
    "#Get top five spenders by total purchase value, then get table of all values assocated with these\n",
    "sorted_spenders = grouped_sn.sum().sort_values([\"Price\"], ascending = False)\n",
    "topfive=sorted_spenders.head(5)"
   ]
  },
  {
   "cell_type": "code",
   "execution_count": 106,
   "metadata": {},
   "outputs": [],
   "source": [
    "grouped_sn=df.groupby([\"SN\"])"
   ]
  },
  {
   "cell_type": "code",
   "execution_count": 123,
   "metadata": {},
   "outputs": [
    {
     "output_type": "execute_result",
     "data": {
      "text/plain": [
       "             Purchase ID  Age  Item ID  Price\n",
       "SN                                           \n",
       "Lisosia93           1630  125      442  18.96\n",
       "Idastidru52         1999   96      527  15.45\n",
       "Chamjask73          1306   66      339  13.83\n",
       "Iral74              2285   84      518  13.62\n",
       "Iskadarya95          713   60      321  13.10"
      ],
      "text/html": "<div>\n<style scoped>\n    .dataframe tbody tr th:only-of-type {\n        vertical-align: middle;\n    }\n\n    .dataframe tbody tr th {\n        vertical-align: top;\n    }\n\n    .dataframe thead th {\n        text-align: right;\n    }\n</style>\n<table border=\"1\" class=\"dataframe\">\n  <thead>\n    <tr style=\"text-align: right;\">\n      <th></th>\n      <th>Purchase ID</th>\n      <th>Age</th>\n      <th>Item ID</th>\n      <th>Price</th>\n    </tr>\n    <tr>\n      <th>SN</th>\n      <th></th>\n      <th></th>\n      <th></th>\n      <th></th>\n    </tr>\n  </thead>\n  <tbody>\n    <tr>\n      <th>Lisosia93</th>\n      <td>1630</td>\n      <td>125</td>\n      <td>442</td>\n      <td>18.96</td>\n    </tr>\n    <tr>\n      <th>Idastidru52</th>\n      <td>1999</td>\n      <td>96</td>\n      <td>527</td>\n      <td>15.45</td>\n    </tr>\n    <tr>\n      <th>Chamjask73</th>\n      <td>1306</td>\n      <td>66</td>\n      <td>339</td>\n      <td>13.83</td>\n    </tr>\n    <tr>\n      <th>Iral74</th>\n      <td>2285</td>\n      <td>84</td>\n      <td>518</td>\n      <td>13.62</td>\n    </tr>\n    <tr>\n      <th>Iskadarya95</th>\n      <td>713</td>\n      <td>60</td>\n      <td>321</td>\n      <td>13.10</td>\n    </tr>\n  </tbody>\n</table>\n</div>"
     },
     "metadata": {},
     "execution_count": 123
    }
   ],
   "source": []
  },
  {
   "cell_type": "code",
   "execution_count": null,
   "metadata": {},
   "outputs": [],
   "source": []
  }
 ]
}